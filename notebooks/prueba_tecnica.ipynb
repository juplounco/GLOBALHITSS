{
 "cells": [
  {
   "cell_type": "markdown",
   "metadata": {},
   "source": [
    "### Requirements"
   ]
  },
  {
   "cell_type": "code",
   "execution_count": 20,
   "metadata": {},
   "outputs": [],
   "source": [
    "import pandas as pd\n",
    "import matplotlib.pyplot as plt\n",
    "import os"
   ]
  },
  {
   "cell_type": "markdown",
   "metadata": {},
   "source": [
    "### Load data"
   ]
  },
  {
   "cell_type": "code",
   "execution_count": 24,
   "metadata": {},
   "outputs": [
    {
     "data": {
      "text/plain": [
       "(25010, 11)"
      ]
     },
     "execution_count": 24,
     "metadata": {},
     "output_type": "execute_result"
    }
   ],
   "source": [
    "df = pd.read_excel('data/dataset.xlsx')\n",
    "df.shape"
   ]
  },
  {
   "cell_type": "markdown",
   "metadata": {},
   "source": [
    "### Describe"
   ]
  },
  {
   "cell_type": "code",
   "execution_count": null,
   "metadata": {},
   "outputs": [
    {
     "name": "stdout",
     "output_type": "stream",
     "text": [
      "<class 'pandas.core.frame.DataFrame'>\n",
      "RangeIndex: 25010 entries, 0 to 25009\n",
      "Data columns (total 11 columns):\n",
      " #   Column  Non-Null Count  Dtype\n",
      "---  ------  --------------  -----\n",
      " 0   SUIT_1  25010 non-null  int64\n",
      " 1   RANK_1  25010 non-null  int64\n",
      " 2   SUIT_2  25010 non-null  int64\n",
      " 3   RANK_2  25010 non-null  int64\n",
      " 4   SUIT_3  25010 non-null  int64\n",
      " 5   RANK_3  25010 non-null  int64\n",
      " 6   SUIT_4  25010 non-null  int64\n",
      " 7   RANK_4  25010 non-null  int64\n",
      " 8   SUIT_5  25010 non-null  int64\n",
      " 9   RANK_5  25010 non-null  int64\n",
      " 10  Mano    25010 non-null  int64\n",
      "dtypes: int64(11)\n",
      "memory usage: 2.1 MB\n"
     ]
    }
   ],
   "source": [
    "df.info()"
   ]
  },
  {
   "cell_type": "code",
   "execution_count": null,
   "metadata": {},
   "outputs": [
    {
     "data": {
      "text/html": [
       "<div>\n",
       "<style scoped>\n",
       "    .dataframe tbody tr th:only-of-type {\n",
       "        vertical-align: middle;\n",
       "    }\n",
       "\n",
       "    .dataframe tbody tr th {\n",
       "        vertical-align: top;\n",
       "    }\n",
       "\n",
       "    .dataframe thead th {\n",
       "        text-align: right;\n",
       "    }\n",
       "</style>\n",
       "<table border=\"1\" class=\"dataframe\">\n",
       "  <thead>\n",
       "    <tr style=\"text-align: right;\">\n",
       "      <th></th>\n",
       "      <th>count</th>\n",
       "      <th>mean</th>\n",
       "      <th>std</th>\n",
       "      <th>min</th>\n",
       "      <th>25%</th>\n",
       "      <th>50%</th>\n",
       "      <th>75%</th>\n",
       "      <th>max</th>\n",
       "    </tr>\n",
       "  </thead>\n",
       "  <tbody>\n",
       "    <tr>\n",
       "      <th>SUIT_1</th>\n",
       "      <td>25010.0</td>\n",
       "      <td>2.508756</td>\n",
       "      <td>1.116483</td>\n",
       "      <td>1.0</td>\n",
       "      <td>2.0</td>\n",
       "      <td>3.0</td>\n",
       "      <td>4.0</td>\n",
       "      <td>4.0</td>\n",
       "    </tr>\n",
       "    <tr>\n",
       "      <th>RANK_1</th>\n",
       "      <td>25010.0</td>\n",
       "      <td>6.995242</td>\n",
       "      <td>3.749805</td>\n",
       "      <td>1.0</td>\n",
       "      <td>4.0</td>\n",
       "      <td>7.0</td>\n",
       "      <td>10.0</td>\n",
       "      <td>13.0</td>\n",
       "    </tr>\n",
       "    <tr>\n",
       "      <th>SUIT_2</th>\n",
       "      <td>25010.0</td>\n",
       "      <td>2.497721</td>\n",
       "      <td>1.121767</td>\n",
       "      <td>1.0</td>\n",
       "      <td>1.0</td>\n",
       "      <td>2.0</td>\n",
       "      <td>4.0</td>\n",
       "      <td>4.0</td>\n",
       "    </tr>\n",
       "    <tr>\n",
       "      <th>RANK_2</th>\n",
       "      <td>25010.0</td>\n",
       "      <td>7.014194</td>\n",
       "      <td>3.766974</td>\n",
       "      <td>1.0</td>\n",
       "      <td>4.0</td>\n",
       "      <td>7.0</td>\n",
       "      <td>10.0</td>\n",
       "      <td>13.0</td>\n",
       "    </tr>\n",
       "    <tr>\n",
       "      <th>SUIT_3</th>\n",
       "      <td>25010.0</td>\n",
       "      <td>2.510236</td>\n",
       "      <td>1.123148</td>\n",
       "      <td>1.0</td>\n",
       "      <td>2.0</td>\n",
       "      <td>3.0</td>\n",
       "      <td>4.0</td>\n",
       "      <td>4.0</td>\n",
       "    </tr>\n",
       "    <tr>\n",
       "      <th>RANK_3</th>\n",
       "      <td>25010.0</td>\n",
       "      <td>7.014154</td>\n",
       "      <td>3.744974</td>\n",
       "      <td>1.0</td>\n",
       "      <td>4.0</td>\n",
       "      <td>7.0</td>\n",
       "      <td>10.0</td>\n",
       "      <td>13.0</td>\n",
       "    </tr>\n",
       "    <tr>\n",
       "      <th>SUIT_4</th>\n",
       "      <td>25010.0</td>\n",
       "      <td>2.495922</td>\n",
       "      <td>1.116009</td>\n",
       "      <td>1.0</td>\n",
       "      <td>1.0</td>\n",
       "      <td>2.0</td>\n",
       "      <td>3.0</td>\n",
       "      <td>4.0</td>\n",
       "    </tr>\n",
       "    <tr>\n",
       "      <th>RANK_4</th>\n",
       "      <td>25010.0</td>\n",
       "      <td>6.942463</td>\n",
       "      <td>3.747147</td>\n",
       "      <td>1.0</td>\n",
       "      <td>4.0</td>\n",
       "      <td>7.0</td>\n",
       "      <td>10.0</td>\n",
       "      <td>13.0</td>\n",
       "    </tr>\n",
       "    <tr>\n",
       "      <th>SUIT_5</th>\n",
       "      <td>25010.0</td>\n",
       "      <td>2.497321</td>\n",
       "      <td>1.118732</td>\n",
       "      <td>1.0</td>\n",
       "      <td>1.0</td>\n",
       "      <td>3.0</td>\n",
       "      <td>3.0</td>\n",
       "      <td>4.0</td>\n",
       "    </tr>\n",
       "    <tr>\n",
       "      <th>RANK_5</th>\n",
       "      <td>25010.0</td>\n",
       "      <td>6.962735</td>\n",
       "      <td>3.741579</td>\n",
       "      <td>1.0</td>\n",
       "      <td>4.0</td>\n",
       "      <td>7.0</td>\n",
       "      <td>10.0</td>\n",
       "      <td>13.0</td>\n",
       "    </tr>\n",
       "    <tr>\n",
       "      <th>Mano</th>\n",
       "      <td>25010.0</td>\n",
       "      <td>0.621152</td>\n",
       "      <td>0.788361</td>\n",
       "      <td>0.0</td>\n",
       "      <td>0.0</td>\n",
       "      <td>1.0</td>\n",
       "      <td>1.0</td>\n",
       "      <td>9.0</td>\n",
       "    </tr>\n",
       "  </tbody>\n",
       "</table>\n",
       "</div>"
      ],
      "text/plain": [
       "          count      mean       std  min  25%  50%   75%   max\n",
       "SUIT_1  25010.0  2.508756  1.116483  1.0  2.0  3.0   4.0   4.0\n",
       "RANK_1  25010.0  6.995242  3.749805  1.0  4.0  7.0  10.0  13.0\n",
       "SUIT_2  25010.0  2.497721  1.121767  1.0  1.0  2.0   4.0   4.0\n",
       "RANK_2  25010.0  7.014194  3.766974  1.0  4.0  7.0  10.0  13.0\n",
       "SUIT_3  25010.0  2.510236  1.123148  1.0  2.0  3.0   4.0   4.0\n",
       "RANK_3  25010.0  7.014154  3.744974  1.0  4.0  7.0  10.0  13.0\n",
       "SUIT_4  25010.0  2.495922  1.116009  1.0  1.0  2.0   3.0   4.0\n",
       "RANK_4  25010.0  6.942463  3.747147  1.0  4.0  7.0  10.0  13.0\n",
       "SUIT_5  25010.0  2.497321  1.118732  1.0  1.0  3.0   3.0   4.0\n",
       "RANK_5  25010.0  6.962735  3.741579  1.0  4.0  7.0  10.0  13.0\n",
       "Mano    25010.0  0.621152  0.788361  0.0  0.0  1.0   1.0   9.0"
      ]
     },
     "execution_count": 4,
     "metadata": {},
     "output_type": "execute_result"
    }
   ],
   "source": [
    "df.describe().T"
   ]
  },
  {
   "cell_type": "code",
   "execution_count": null,
   "metadata": {},
   "outputs": [
    {
     "data": {
      "image/png": "[encoded data removed]",
      "text/plain": [
       "<Figure size 432x288 with 1 Axes>"
      ]
     },
     "metadata": {
      "needs_background": "light"
     },
     "output_type": "display_data"
    },
    {
     "data": {
      "image/png": "[encoded data removed]",
      "text/plain": [
       "<Figure size 432x288 with 1 Axes>"
      ]
     },
     "metadata": {
      "needs_background": "light"
     },
     "output_type": "display_data"
    },
    {
     "data": {
      "image/png": "[encoded data removed]",
      "text/plain": [
       "<Figure size 432x288 with 1 Axes>"
      ]
     },
     "metadata": {
      "needs_background": "light"
     },
     "output_type": "display_data"
    },
    {
     "data": {
      "image/png": "[encoded data removed]",
      "text/plain": [
       "<Figure size 432x288 with 1 Axes>"
      ]
     },
     "metadata": {
      "needs_background": "light"
     },
     "output_type": "display_data"
    },
    {
     "data": {
      "image/png": "[encoded data removed]",
      "text/plain": [
       "<Figure size 432x288 with 1 Axes>"
      ]
     },
     "metadata": {
      "needs_background": "light"
     },
     "output_type": "display_data"
    },
    {
     "data": {
      "image/png": "[encoded data removed]",
      "text/plain": [
       "<Figure size 432x288 with 1 Axes>"
      ]
     },
     "metadata": {
      "needs_background": "light"
     },
     "output_type": "display_data"
    },
    {
     "data": {
      "image/png": "[encoded data removed]",
      "text/plain": [
       "<Figure size 432x288 with 1 Axes>"
      ]
     },
     "metadata": {
      "needs_background": "light"
     },
     "output_type": "display_data"
    },
    {
     "data": {
      "image/png": "[encoded data removed]",
      "text/plain": [
       "<Figure size 432x288 with 1 Axes>"
      ]
     },
     "metadata": {
      "needs_background": "light"
     },
     "output_type": "display_data"
    },
    {
     "data": {
      "image/png": "[encoded data removed]",
      "text/plain": [
       "<Figure size 432x288 with 1 Axes>"
      ]
     },
     "metadata": {
      "needs_background": "light"
     },
     "output_type": "display_data"
    },
    {
     "data": {
      "image/png": "[encoded data removed]",
      "text/plain": [
       "<Figure size 432x288 with 1 Axes>"
      ]
     },
     "metadata": {
      "needs_background": "light"
     },
     "output_type": "display_data"
    },
    {
     "data": {
      "image/png": "[encoded data removed]",
      "text/plain": [
       "<Figure size 432x288 with 1 Axes>"
      ]
     },
     "metadata": {
      "needs_background": "light"
     },
     "output_type": "display_data"
    }
   ],
   "source": [
    "for i in df.columns:\n",
    "    df[i].hist()\n",
    "    plt.title(i)\n",
    "    plt.show()"
   ]
  },
  {
   "cell_type": "code",
   "execution_count": null,
   "metadata": {},
   "outputs": [
    {
     "name": "stderr",
     "output_type": "stream",
     "text": [
      "c:\\Users\\juplo\\AppData\\Local\\Programs\\Python\\Python39\\lib\\site-packages\\seaborn\\_oldcore.py:1498: FutureWarning: is_categorical_dtype is deprecated and will be removed in a future version. Use isinstance(dtype, CategoricalDtype) instead\n",
      "  if pd.api.types.is_categorical_dtype(vector):\n",
      "c:\\Users\\juplo\\AppData\\Local\\Programs\\Python\\Python39\\lib\\site-packages\\seaborn\\_oldcore.py:1498: FutureWarning: is_categorical_dtype is deprecated and will be removed in a future version. Use isinstance(dtype, CategoricalDtype) instead\n",
      "  if pd.api.types.is_categorical_dtype(vector):\n",
      "c:\\Users\\juplo\\AppData\\Local\\Programs\\Python\\Python39\\lib\\site-packages\\seaborn\\_oldcore.py:1498: FutureWarning: is_categorical_dtype is deprecated and will be removed in a future version. Use isinstance(dtype, CategoricalDtype) instead\n",
      "  if pd.api.types.is_categorical_dtype(vector):\n"
     ]
    },
    {
     "data": {
      "image/png": "[encoded data removed]",
      "text/plain": [
       "<Figure size 720x432 with 1 Axes>"
      ]
     },
     "metadata": {
      "needs_background": "light"
     },
     "output_type": "display_data"
    }
   ],
   "source": [
    "import matplotlib.pyplot as plt\n",
    "import seaborn as sns\n",
    "# Visualizing the distribution of 'Mano'\n",
    "plt.figure(figsize=(10, 6))\n",
    "sns.countplot(x='Mano', data=df)\n",
    "plt.title('Distribución de la variable objetivo \"Mano\"')\n",
    "plt.xlabel('Tipo de Mano')\n",
    "plt.ylabel('Frecuencia')\n",
    "plt.xticks(rotation=45)\n",
    "plt.grid(axis='y')\n",
    "\n",
    "plt.tight_layout()\n",
    "plt.show()\n"
   ]
  },
  {
   "cell_type": "code",
   "execution_count": null,
   "metadata": {},
   "outputs": [
    {
     "data": {
      "text/plain": [
       "Mano\n",
       "0    49.952019\n",
       "1    42.379048\n",
       "2     4.822071\n",
       "3     2.051180\n",
       "4     0.371851\n",
       "5     0.215914\n",
       "6     0.143942\n",
       "7     0.023990\n",
       "9     0.019992\n",
       "8     0.019992\n",
       "Name: proportion, dtype: float64"
      ]
     },
     "execution_count": 8,
     "metadata": {},
     "output_type": "execute_result"
    }
   ],
   "source": [
    "df['Mano'].value_counts(normalize=True)*100\n"
   ]
  },
  {
   "cell_type": "code",
   "execution_count": null,
   "metadata": {},
   "outputs": [
    {
     "data": {
      "text/plain": [
       "((20008, 10), (5002, 10), (20008,), (5002,))"
      ]
     },
     "execution_count": 14,
     "metadata": {},
     "output_type": "execute_result"
    }
   ],
   "source": [
    "from sklearn.model_selection import train_test_split\n",
    "from sklearn.preprocessing import StandardScaler\n",
    "\n",
    "# Separando las características y la variable objetivo\n",
    "X = df.drop('Mano', axis=1)\n",
    "y = df['Mano']\n",
    "\n",
    "# Dividiendo los datos en conjuntos de entrenamiento y prueba\n",
    "X_train, X_test, y_train, y_test = train_test_split(X, y, test_size=0.2, random_state=42)\n",
    "\n",
    "# Escalando las características\n",
    "scaler = StandardScaler()\n",
    "X_train_scaled = scaler.fit_transform(X_train)\n",
    "X_test_scaled = scaler.transform(X_test)\n",
    "\n",
    "# Verificando las dimensiones de los conjuntos de entrenamiento y prueba\n",
    "(X_train_scaled.shape, X_test_scaled.shape, y_train.shape, y_test.shape)\n",
    "\n",
    "\n"
   ]
  },
  {
   "cell_type": "code",
   "execution_count": null,
   "metadata": {},
   "outputs": [
    {
     "data": {
      "text/plain": [
       "[('Neural Network', 0.6809276289484206),\n",
       " ('Random Forest', 0.6117552978808477),\n",
       " ('SVM', 0.5581767293082767),\n",
       " ('Logistic Regression', 0.5101959216313474),\n",
       " ('Decision Tree', 0.48660535785685727)]"
      ]
     },
     "execution_count": 15,
     "metadata": {},
     "output_type": "execute_result"
    }
   ],
   "source": [
    "from sklearn.linear_model import LogisticRegression\n",
    "from sklearn.tree import DecisionTreeClassifier\n",
    "from sklearn.ensemble import RandomForestClassifier\n",
    "from sklearn.svm import SVC\n",
    "from sklearn.neural_network import MLPClassifier\n",
    "from sklearn.metrics import accuracy_score\n",
    "\n",
    "# Inicializando los modelos\n",
    "logistic_model = LogisticRegression(max_iter=1000, random_state=42)\n",
    "decision_tree_model = DecisionTreeClassifier(random_state=42)\n",
    "random_forest_model = RandomForestClassifier(random_state=42)\n",
    "svm_model = SVC(random_state=42)\n",
    "neural_network_model = MLPClassifier(max_iter=1000, random_state=42)\n",
    "\n",
    "# Lista de modelos para iterar\n",
    "models = [\n",
    "    (\"Logistic Regression\", logistic_model),\n",
    "    (\"Decision Tree\", decision_tree_model),\n",
    "    (\"Random Forest\", random_forest_model),\n",
    "    (\"SVM\", svm_model),\n",
    "    (\"Neural Network\", neural_network_model)\n",
    "]\n",
    "\n",
    "# Entrenando y evaluando cada modelo\n",
    "results = {}\n",
    "for name, model in models:\n",
    "    model.fit(X_train_scaled, y_train)\n",
    "    y_pred = model.predict(X_test_scaled)\n",
    "    accuracy = accuracy_score(y_test, y_pred)\n",
    "    results[name] = accuracy\n",
    "\n",
    "results_sorted = sorted(results.items(), key=lambda x: x[1], reverse=True)\n",
    "results_sorted\n"
   ]
  },
  {
   "cell_type": "code",
   "execution_count": null,
   "metadata": {},
   "outputs": [
    {
     "data": {
      "text/plain": [
       "0.5975609756097561"
      ]
     },
     "execution_count": 16,
     "metadata": {},
     "output_type": "execute_result"
    }
   ],
   "source": [
    "# Creando el modelo de Bosque Aleatorio con el peso de las clases balanceado\n",
    "balanced_random_forest_model = RandomForestClassifier(random_state=42, class_weight='balanced')\n",
    "\n",
    "# Entrenando el modelo\n",
    "balanced_random_forest_model.fit(X_train_scaled, y_train)\n",
    "\n",
    "# Evaluando el modelo\n",
    "y_pred_balanced_rf = balanced_random_forest_model.predict(X_test_scaled)\n",
    "accuracy_balanced_rf = accuracy_score(y_test, y_pred_balanced_rf)\n",
    "\n",
    "accuracy_balanced_rf\n"
   ]
  },
  {
   "cell_type": "code",
   "execution_count": null,
   "metadata": {},
   "outputs": [
    {
     "data": {
      "text/plain": [
       "({'n_estimators': 200, 'min_samples_split': 5, 'max_depth': 20},\n",
       " 0.5818170012309785)"
      ]
     },
     "execution_count": 17,
     "metadata": {},
     "output_type": "execute_result"
    }
   ],
   "source": [
    "from sklearn.model_selection import RandomizedSearchCV\n",
    "\n",
    "# Definiendo el espacio de hiperparámetros para la búsqueda aleatoria\n",
    "param_dist = {\n",
    "    'n_estimators': [10, 50, 100, 200],\n",
    "    'max_depth': [None, 10, 20, 30, 40, 50],\n",
    "    'min_samples_split': [2, 5, 10, 15, 20]\n",
    "}\n",
    "\n",
    "# Creando el modelo de Bosque Aleatorio para la búsqueda\n",
    "rf_model_for_search = RandomForestClassifier(random_state=42, class_weight='balanced')\n",
    "\n",
    "# Búsqueda aleatoria de hiperparámetros\n",
    "random_search = RandomizedSearchCV(rf_model_for_search, param_dist, n_iter=10, cv=3, random_state=42)\n",
    "\n",
    "# Ejecutando la búsqueda\n",
    "random_search.fit(X_train_scaled, y_train)\n",
    "\n",
    "# Mejores hiperparámetros encontrados\n",
    "best_params = random_search.best_params_\n",
    "best_score = random_search.best_score_\n",
    "\n",
    "best_params, best_score"
   ]
  },
  {
   "cell_type": "code",
   "execution_count": null,
   "metadata": {},
   "outputs": [
    {
     "data": {
      "text/plain": [
       "0.6025589764094362"
      ]
     },
     "execution_count": 18,
     "metadata": {},
     "output_type": "execute_result"
    }
   ],
   "source": [
    "# Creando y entrenando el modelo con los mejores hiperparámetros encontrados\n",
    "optimized_rf_model = RandomForestClassifier(\n",
    "    n_estimators=best_params['n_estimators'],\n",
    "    min_samples_split=best_params['min_samples_split'],\n",
    "    max_depth=best_params['max_depth'],\n",
    "    random_state=42,\n",
    "    class_weight='balanced'\n",
    ")\n",
    "\n",
    "optimized_rf_model.fit(X_train_scaled, y_train)\n",
    "\n",
    "# Evaluando el modelo optimizado\n",
    "y_pred_optimized_rf = optimized_rf_model.predict(X_test_scaled)\n",
    "accuracy_optimized_rf = accuracy_score(y_test, y_pred_optimized_rf)\n",
    "\n",
    "accuracy_optimized_rf\n"
   ]
  }
 ],
 "metadata": {
  "kernelspec": {
   "display_name": "Python 3",
   "language": "python",
   "name": "python3"
  },
  "language_info": {
   "codemirror_mode": {
    "name": "ipython",
    "version": 3
   },
   "file_extension": ".py",
   "mimetype": "text/x-python",
   "name": "python",
   "nbconvert_exporter": "python",
   "pygments_lexer": "ipython3",
   "version": "3.9.7"
  }
 },
 "nbformat": 4,
 "nbformat_minor": 2
}
